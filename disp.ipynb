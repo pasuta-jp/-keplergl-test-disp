from keplergl import KeplerGl
map_1 = KeplerGl(height=400, data={"data_1": my_df}, config=config)
map_1

with open('testdata.csv', 'r') as f:
    csvData = f.read()
map_1.add_data(data=csvData, name='data1')
